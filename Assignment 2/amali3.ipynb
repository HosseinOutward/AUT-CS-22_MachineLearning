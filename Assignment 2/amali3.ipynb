{
 "cells": [
  {
   "cell_type": "code",
   "execution_count": 1,
   "outputs": [],
   "source": [
    "import pandas as pd\n",
    "import numpy as np\n",
    "import matplotlib.pyplot as plt\n",
    "import seaborn as sns\n",
    "from sklearn.metrics import confusion_matrix\n",
    "from sklearn.model_selection import GridSearchCV\n",
    "from sklearn.ensemble import RandomForestClassifier\n",
    "import category_encoders as ce\n",
    "from sklearn.model_selection import train_test_split"
   ],
   "metadata": {
    "collapsed": false
   }
  },
  {
   "cell_type": "code",
   "execution_count": 2,
   "outputs": [],
   "source": [
    "raw_df = pd.read_csv(\"Data/Fraud_Detection/application_data.csv\").set_index('SK_ID_CURR')\n",
    "raw_prev_df = pd.read_csv(\"Data/Fraud_Detection/previous_application.csv\")"
   ],
   "metadata": {
    "collapsed": false
   }
  },
  {
   "cell_type": "code",
   "execution_count": 3,
   "outputs": [],
   "source": [
    "drop_raw = ['AMT_REQ_CREDIT_BUREAU_HOUR', 'AMT_REQ_CREDIT_BUREAU_DAY']\n",
    "drop_prev = [\n",
    "    'SK_ID_CURR',\n",
    "    'SK_ID_PREV',\n",
    "    'FLAG_LAST_APPL_PER_CONTRACT',\n",
    "    'NFLAG_LAST_APPL_IN_DAY',\n",
    "    'SELLERPLACE_AREA',\n",
    "]\n",
    "\n",
    "cat_col = [\n",
    "    'NAME_CONTRACT_TYPE',\n",
    "    'CODE_GENDER',\n",
    "    'FLAG_OWN_CAR',\n",
    "    'FLAG_OWN_REALTY',\n",
    "    'NAME_TYPE_SUITE',\n",
    "    'NAME_INCOME_TYPE',\n",
    "    'NAME_EDUCATION_TYPE',\n",
    "    'NAME_FAMILY_STATUS',\n",
    "    'NAME_HOUSING_TYPE',\n",
    "    'FLAG_EMP_PHONE',\n",
    "    'FLAG_WORK_PHONE',\n",
    "    'FLAG_CONT_MOBILE',\n",
    "    'FLAG_PHONE',\n",
    "    'FLAG_EMAIL',\n",
    "    'OCCUPATION_TYPE',\n",
    "    'WEEKDAY_APPR_PROCESS_START',\n",
    "    'REG_REGION_NOT_LIVE_REGION',\n",
    "    'REG_REGION_NOT_WORK_REGION',\n",
    "    'LIVE_REGION_NOT_WORK_REGION',\n",
    "    'REG_CITY_NOT_LIVE_CITY',\n",
    "    'REG_CITY_NOT_WORK_CITY',\n",
    "    'LIVE_CITY_NOT_WORK_CITY',\n",
    "    'ORGANIZATION_TYPE',\n",
    "    'FONDKAPREMONT_MODE',\n",
    "    'HOUSETYPE_MODE',\n",
    "    'WALLSMATERIAL_MODE',\n",
    "    'EMERGENCYSTATE_MODE',\n",
    "    'FLAG_DOCUMENT_2',\n",
    "    'FLAG_DOCUMENT_3',\n",
    "    'FLAG_DOCUMENT_4',\n",
    "    'FLAG_DOCUMENT_5',\n",
    "    'FLAG_DOCUMENT_6',\n",
    "    'FLAG_DOCUMENT_7',\n",
    "    'FLAG_DOCUMENT_8',\n",
    "    'FLAG_DOCUMENT_9',\n",
    "    'FLAG_DOCUMENT_10',\n",
    "    'FLAG_DOCUMENT_11',\n",
    "    'FLAG_DOCUMENT_12',\n",
    "    'FLAG_DOCUMENT_13',\n",
    "    'FLAG_DOCUMENT_14',\n",
    "    'FLAG_DOCUMENT_15',\n",
    "    'FLAG_DOCUMENT_16',\n",
    "    'FLAG_DOCUMENT_17',\n",
    "    'FLAG_DOCUMENT_18',\n",
    "    'FLAG_DOCUMENT_19',\n",
    "    'FLAG_DOCUMENT_20',\n",
    "    'FLAG_DOCUMENT_21',\n",
    "    'prev_NAME_CONTRACT_TYPE',\n",
    "    'prev_WEEKDAY_APPR_PROCESS_START',\n",
    "    'prev_NAME_CASH_LOAN_PURPOSE',\n",
    "    'prev_NAME_CONTRACT_STATUS',\n",
    "    'prev_NAME_PAYMENT_TYPE',\n",
    "    'prev_CODE_REJECT_REASON',\n",
    "    'prev_NAME_TYPE_SUITE',\n",
    "    'prev_NAME_CLIENT_TYPE',\n",
    "    'prev_NAME_GOODS_CATEGORY',\n",
    "    'prev_NAME_PORTFOLIO',\n",
    "    'prev_NAME_PRODUCT_TYPE',\n",
    "    'prev_CHANNEL_TYPE',\n",
    "    'prev_NAME_SELLER_INDUSTRY',\n",
    "    'prev_NAME_YIELD_GROUP',\n",
    "    'prev_PRODUCT_COMBINATION',\n",
    "    'prev_NFLAG_INSURED_ON_APPROVAL'\n",
    "]\n",
    "target_col = 'TARGET'\n",
    "feat_col=lambda oc: list(set(oc.columns)-set([target_col]))"
   ],
   "metadata": {
    "collapsed": false
   }
  },
  {
   "cell_type": "code",
   "execution_count": 4,
   "outputs": [
    {
     "data": {
      "text/plain": "5.350702901684823"
     },
     "execution_count": 4,
     "metadata": {},
     "output_type": "execute_result"
    }
   ],
   "source": [
    "# add kin\n",
    "\n",
    "df = raw_df[raw_df.index.isin(raw_prev_df['SK_ID_CURR'])].drop(drop_raw, axis=1)\n",
    "for col in raw_prev_df.drop(drop_prev, axis=1).columns:\n",
    "    df[\"prev_\" + col] = raw_prev_df[col]\n",
    "uniq_val = df.apply(lambda c: c.unique())\n",
    "current_col = df.columns.copy()\n",
    "for col in current_col:\n",
    "    if uniq_val[col].shape[0] <= 1: df=df.drop(col, axis=1)\n",
    "(1 - df.shape[0] / raw_df.shape[0]) * 100"
   ],
   "metadata": {
    "collapsed": false
   }
  },
  {
   "cell_type": "code",
   "execution_count": 5,
   "outputs": [],
   "source": [
    "for col in df.columns:\n",
    "    if col in cat_col+[target_col]: continue\n",
    "    temp=df[col].dropna()\n",
    "    a=temp.quantile(0.99)-temp.quantile(0.01)\n",
    "    if a<0.001: a=temp.max()-temp.min()\n",
    "    df[col] = (df[col]-temp.quantile(0.01))/(temp.quantile(0.99)-temp.quantile(0.01))"
   ],
   "metadata": {
    "collapsed": false
   }
  },
  {
   "cell_type": "code",
   "execution_count": 6,
   "outputs": [],
   "source": [
    "for col in cat_col:\n",
    "    other_val = df[col].value_counts()<0.005*df.shape[0]\n",
    "    other_val = [v for is_small,v in list(zip(other_val,other_val.index)) if is_small]\n",
    "    df[col]=df[col].replace(other_val, 'other')\n",
    "\n",
    "temp=[c for c in cat_col if df[c].value_counts().shape[0]==2]\n",
    "for col in temp:\n",
    "    unique_values = df[col].unique()\n",
    "    df[col]=df[col].map({unique_values[0]: 0, unique_values[1]: 1})\n",
    "\n",
    "temp=[c for c in cat_col if df[c].value_counts().shape[0]>2]\n",
    "encoder=ce.BinaryEncoder(cols=temp,return_df=True)\n",
    "df=encoder.fit_transform(df)\n"
   ],
   "metadata": {
    "collapsed": false
   }
  },
  {
   "cell_type": "code",
   "execution_count": 7,
   "outputs": [],
   "source": [
    "for col in df.columns:\n",
    "    if df[col].isna().sum()==0: continue\n",
    "    df[col+\"_nan\"]=df[col].isna().astype(np.int8)\n",
    "df=df.fillna(0)"
   ],
   "metadata": {
    "collapsed": false
   }
  },
  {
   "cell_type": "code",
   "execution_count": 8,
   "outputs": [],
   "source": [
    "data_=df.copy()"
   ],
   "metadata": {
    "collapsed": false
   }
  },
  {
   "cell_type": "code",
   "execution_count": 9,
   "outputs": [],
   "source": [
    "from sklearn.feature_selection import SelectKBest, f_classif, mutual_info_regression\n",
    "\n",
    "for cirt in [f_classif]:\n",
    "    a = SelectKBest(cirt, k=100)\n",
    "    a.fit(df[feat_col(df)], df[target_col])\n",
    "    selected=a.get_feature_names_out()"
   ],
   "metadata": {
    "collapsed": false
   }
  },
  {
   "cell_type": "code",
   "execution_count": 28,
   "outputs": [],
   "source": [
    "X_train, X_test = pd.DataFrame(), pd.DataFrame()\n",
    "df_tar,df_feat=df[target_col], df[selected]\n",
    "for tr_val in df_tar.unique():\n",
    "    train, test = train_test_split(df_feat[df_tar==tr_val], test_size=0.15, random_state=15)\n",
    "    X_train=pd.concat([train,X_train])\n",
    "    X_test= pd.concat([test, X_test])\n",
    "y_train=df_tar[df_tar.index.isin(X_train.index)]\n",
    "y_test=df_tar[df_tar.index.isin(X_test.index)]"
   ],
   "metadata": {
    "collapsed": false
   }
  },
  {
   "cell_type": "code",
   "execution_count": 22,
   "outputs": [
    {
     "name": "stderr",
     "output_type": "stream",
     "text": [
      "\n",
      "KeyboardInterrupt\n",
      "\n"
     ]
    }
   ],
   "source": [
    "grid_search = GridSearchCV(estimator=RandomForestClassifier(), param_grid={\n",
    "    'n_estimators': [50, 100, 150],\n",
    "    'max_depth': [20, 30, 40, 50],\n",
    "    'bootstrap': [True, False]\n",
    "})\n",
    "grid_search.fit(X_train, y_train)\n",
    "print(grid_search.best_params_)"
   ],
   "metadata": {
    "collapsed": false
   }
  },
  {
   "cell_type": "code",
   "execution_count": 29,
   "outputs": [
    {
     "data": {
      "text/plain": "RandomForestClassifier(class_weight={0: 1, 1: 12}, max_depth=26)",
      "text/html": "<style>#sk-container-id-3 {color: black;background-color: white;}#sk-container-id-3 pre{padding: 0;}#sk-container-id-3 div.sk-toggleable {background-color: white;}#sk-container-id-3 label.sk-toggleable__label {cursor: pointer;display: block;width: 100%;margin-bottom: 0;padding: 0.3em;box-sizing: border-box;text-align: center;}#sk-container-id-3 label.sk-toggleable__label-arrow:before {content: \"▸\";float: left;margin-right: 0.25em;color: #696969;}#sk-container-id-3 label.sk-toggleable__label-arrow:hover:before {color: black;}#sk-container-id-3 div.sk-estimator:hover label.sk-toggleable__label-arrow:before {color: black;}#sk-container-id-3 div.sk-toggleable__content {max-height: 0;max-width: 0;overflow: hidden;text-align: left;background-color: #f0f8ff;}#sk-container-id-3 div.sk-toggleable__content pre {margin: 0.2em;color: black;border-radius: 0.25em;background-color: #f0f8ff;}#sk-container-id-3 input.sk-toggleable__control:checked~div.sk-toggleable__content {max-height: 200px;max-width: 100%;overflow: auto;}#sk-container-id-3 input.sk-toggleable__control:checked~label.sk-toggleable__label-arrow:before {content: \"▾\";}#sk-container-id-3 div.sk-estimator input.sk-toggleable__control:checked~label.sk-toggleable__label {background-color: #d4ebff;}#sk-container-id-3 div.sk-label input.sk-toggleable__control:checked~label.sk-toggleable__label {background-color: #d4ebff;}#sk-container-id-3 input.sk-hidden--visually {border: 0;clip: rect(1px 1px 1px 1px);clip: rect(1px, 1px, 1px, 1px);height: 1px;margin: -1px;overflow: hidden;padding: 0;position: absolute;width: 1px;}#sk-container-id-3 div.sk-estimator {font-family: monospace;background-color: #f0f8ff;border: 1px dotted black;border-radius: 0.25em;box-sizing: border-box;margin-bottom: 0.5em;}#sk-container-id-3 div.sk-estimator:hover {background-color: #d4ebff;}#sk-container-id-3 div.sk-parallel-item::after {content: \"\";width: 100%;border-bottom: 1px solid gray;flex-grow: 1;}#sk-container-id-3 div.sk-label:hover label.sk-toggleable__label {background-color: #d4ebff;}#sk-container-id-3 div.sk-serial::before {content: \"\";position: absolute;border-left: 1px solid gray;box-sizing: border-box;top: 0;bottom: 0;left: 50%;z-index: 0;}#sk-container-id-3 div.sk-serial {display: flex;flex-direction: column;align-items: center;background-color: white;padding-right: 0.2em;padding-left: 0.2em;position: relative;}#sk-container-id-3 div.sk-item {position: relative;z-index: 1;}#sk-container-id-3 div.sk-parallel {display: flex;align-items: stretch;justify-content: center;background-color: white;position: relative;}#sk-container-id-3 div.sk-item::before, #sk-container-id-3 div.sk-parallel-item::before {content: \"\";position: absolute;border-left: 1px solid gray;box-sizing: border-box;top: 0;bottom: 0;left: 50%;z-index: -1;}#sk-container-id-3 div.sk-parallel-item {display: flex;flex-direction: column;z-index: 1;position: relative;background-color: white;}#sk-container-id-3 div.sk-parallel-item:first-child::after {align-self: flex-end;width: 50%;}#sk-container-id-3 div.sk-parallel-item:last-child::after {align-self: flex-start;width: 50%;}#sk-container-id-3 div.sk-parallel-item:only-child::after {width: 0;}#sk-container-id-3 div.sk-dashed-wrapped {border: 1px dashed gray;margin: 0 0.4em 0.5em 0.4em;box-sizing: border-box;padding-bottom: 0.4em;background-color: white;}#sk-container-id-3 div.sk-label label {font-family: monospace;font-weight: bold;display: inline-block;line-height: 1.2em;}#sk-container-id-3 div.sk-label-container {text-align: center;}#sk-container-id-3 div.sk-container {/* jupyter's `normalize.less` sets `[hidden] { display: none; }` but bootstrap.min.css set `[hidden] { display: none !important; }` so we also need the `!important` here to be able to override the default hidden behavior on the sphinx rendered scikit-learn.org. See: https://github.com/scikit-learn/scikit-learn/issues/21755 */display: inline-block !important;position: relative;}#sk-container-id-3 div.sk-text-repr-fallback {display: none;}</style><div id=\"sk-container-id-3\" class=\"sk-top-container\"><div class=\"sk-text-repr-fallback\"><pre>RandomForestClassifier(class_weight={0: 1, 1: 12}, max_depth=26)</pre><b>In a Jupyter environment, please rerun this cell to show the HTML representation or trust the notebook. <br />On GitHub, the HTML representation is unable to render, please try loading this page with nbviewer.org.</b></div><div class=\"sk-container\" hidden><div class=\"sk-item\"><div class=\"sk-estimator sk-toggleable\"><input class=\"sk-toggleable__control sk-hidden--visually\" id=\"sk-estimator-id-3\" type=\"checkbox\" checked><label for=\"sk-estimator-id-3\" class=\"sk-toggleable__label sk-toggleable__label-arrow\">RandomForestClassifier</label><div class=\"sk-toggleable__content\"><pre>RandomForestClassifier(class_weight={0: 1, 1: 12}, max_depth=26)</pre></div></div></div></div></div>"
     },
     "execution_count": 29,
     "metadata": {},
     "output_type": "execute_result"
    }
   ],
   "source": [
    "model=RandomForestClassifier(class_weight={0: 1,1:12},max_depth=26, n_estimators=100)\n",
    "model.fit(X_train, y_train)"
   ],
   "metadata": {
    "collapsed": false
   }
  },
  {
   "cell_type": "code",
   "execution_count": 33,
   "outputs": [
    {
     "data": {
      "text/plain": "<Figure size 900x720 with 2 Axes>",
      "image/png": "[encoded data removed]"
     },
     "metadata": {},
     "output_type": "display_data"
    }
   ],
   "source": [
    "cm=confusion_matrix(y_test, model.predict(X_test))\n",
    "s = sns.heatmap(cm, annot=True, vmin=0)\n",
    "s.set(xlabel=\"Predicted\", ylabel=\"Actual\")\n",
    "plt.gcf().set_size_inches(12.5, 10)\n",
    "plt.show(s)"
   ],
   "metadata": {
    "collapsed": false
   }
  },
  {
   "cell_type": "code",
   "execution_count": 31,
   "outputs": [
    {
     "data": {
      "text/plain": "{'0': {'precision': 0.918093273748138,\n  'recall': 0.9994760740482012,\n  'f1-score': 0.9570577063201022,\n  'support': 40082},\n '1': {'precision': 0.125,\n  'recall': 0.0008386916410399776,\n  'f1-score': 0.0016662038322688142,\n  'support': 3577},\n 'accuracy': 0.9176572986096796,\n 'macro avg': {'precision': 0.521546636874069,\n  'recall': 0.5001573828446205,\n  'f1-score': 0.4793619550761855,\n  'support': 43659},\n 'weighted avg': {'precision': 0.8531148124870671,\n  'recall': 0.9176572986096796,\n  'f1-score': 0.8787820837818175,\n  'support': 43659}}"
     },
     "execution_count": 31,
     "metadata": {},
     "output_type": "execute_result"
    }
   ],
   "source": [
    "from sklearn.metrics import classification_report\n",
    "classification_report(y_test, model.predict(X_test), output_dict=True)"
   ],
   "metadata": {
    "collapsed": false
   }
  },
  {
   "cell_type": "code",
   "execution_count": 32,
   "outputs": [
    {
     "data": {
      "text/plain": "{'0': {'precision': 0.9983382277946788,\n  'recall': 0.9998238894025449,\n  'f1-score': 0.9990805062934726,\n  'support': 227130},\n '1': {'precision': 0.9979929754139488,\n  'recall': 0.9813499111900533,\n  'f1-score': 0.989601472710085,\n  'support': 20268},\n 'accuracy': 0.9983104147972094,\n 'macro avg': {'precision': 0.9981656016043139,\n  'recall': 0.990586900296299,\n  'f1-score': 0.9943409895017787,\n  'support': 247398},\n 'weighted avg': {'precision': 0.9983099431066352,\n  'recall': 0.9983104147972094,\n  'f1-score': 0.998303939576409,\n  'support': 247398}}"
     },
     "execution_count": 32,
     "metadata": {},
     "output_type": "execute_result"
    }
   ],
   "source": [
    "classification_report(y_train, model.predict(X_train), output_dict=True)"
   ],
   "metadata": {
    "collapsed": false
   }
  },
  {
   "cell_type": "code",
   "execution_count": 26,
   "outputs": [
    {
     "data": {
      "text/plain": "[('EXT_SOURCE_3',\n  'DAYS_EMPLOYED',\n  'AMT_CREDIT',\n  'DAYS_LAST_PHONE_CHANGE',\n  'prev_DAYS_DECISION',\n  'AMT_ANNUITY',\n  'DAYS_BIRTH',\n  'DAYS_ID_PUBLISH',\n  'DAYS_REGISTRATION',\n  'EXT_SOURCE_2'),\n (0.018316121253392742,\n  0.019090280852935976,\n  0.01976389889644832,\n  0.02047046878219962,\n  0.021265713688748453,\n  0.021844761097262837,\n  0.02205096088369158,\n  0.02279130767561258,\n  0.02285910659491517,\n  0.022980409238233572)]"
     },
     "execution_count": 26,
     "metadata": {},
     "output_type": "execute_result"
    }
   ],
   "source": [
    "a=list(zip(df_feat.columns,model.feature_importances_))\n",
    "a.sort(key=lambda x: x[1])\n",
    "list(zip(*a[-10:]))"
   ],
   "metadata": {
    "collapsed": false
   }
  }
 ],
 "metadata": {
  "kernelspec": {
   "display_name": "Python 3",
   "language": "python",
   "name": "python3"
  },
  "language_info": {
   "codemirror_mode": {
    "name": "ipython",
    "version": 2
   },
   "file_extension": ".py",
   "mimetype": "text/x-python",
   "name": "python",
   "nbconvert_exporter": "python",
   "pygments_lexer": "ipython2",
   "version": "2.7.6"
  }
 },
 "nbformat": 4,
 "nbformat_minor": 0
}