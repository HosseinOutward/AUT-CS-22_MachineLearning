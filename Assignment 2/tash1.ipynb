{
 "cells": [
  {
   "cell_type": "code",
   "execution_count": 1,
   "outputs": [],
   "source": [
    "import pandas as pd\n",
    "import numpy as np\n",
    "import matplotlib.pyplot as plt\n",
    "import seaborn as sns\n",
    "from sklearn.metrics import confusion_matrix\n",
    "from sklearn.model_selection import GridSearchCV\n",
    "from sklearn.ensemble import RandomForestClassifier\n",
    "import category_encoders as ce\n",
    "from sklearn.model_selection import train_test_split"
   ],
   "metadata": {
    "collapsed": false
   }
  },
  {
   "cell_type": "code",
   "execution_count": 30,
   "outputs": [],
   "source": [
    "data=np.array([\n",
    "    ['old','False','True',],\n",
    "    ['mid','True','True',],\n",
    "    ['mid','False','True',],\n",
    "    ['old','True','True',],\n",
    "    ['young','True','True',],\n",
    "    ['mid','False','False',],\n",
    "    ['young','False','False',],\n",
    "    ['young','True','False',],\n",
    "    ['old','False','True',],\n",
    "    ['young','False','False',],\n",
    "    ['mid','False','False',],\n",
    "    ['young','True','True',],\n",
    "    ['mid','False','False',],\n",
    "    ['mid','True','True',],\n",
    "    ['young','True','False',],\n",
    "    ['young','False','False',],\n",
    "    ['mid','False','True',],\n",
    "    ['old','False','True',],\n",
    "])\n",
    "def H(posR,negR):\n",
    "    res=0\n",
    "    if posR!=0: res-=posR*np.log(posR)\n",
    "    if negR!=0: res-=negR*np.log(negR)\n",
    "    return res\n",
    "def EH(data,col):\n",
    "    col_i={\"age\":0,'fam':1}[col]\n",
    "    res=0\n",
    "    for v in np.unique(data[:,col_i]):\n",
    "        J=data[data[:,col_i]==v]\n",
    "        nJ=len(J)\n",
    "        nK=len(data)\n",
    "        nPJ=len(J[J[:,2]=='True'])\n",
    "        nNJ=len(J[J[:,2]=='False'])\n",
    "        res+=nJ/nK * H(nPJ/nJ,nNJ/nJ)\n",
    "    return res\n",
    "def I(data,col):\n",
    "    return H(len(data[data[:,2]=='True'])/len(data),\n",
    "             len(data[data[:,2]=='False'])/len(data))\\\n",
    "           -EH(data,col)\n",
    "d=data.copy()"
   ],
   "metadata": {
    "collapsed": false
   }
  },
  {
   "cell_type": "code",
   "execution_count": 43,
   "outputs": [
    {
     "name": "stdout",
     "output_type": "stream",
     "text": [
      "age infogain 0.18872580698620656\n",
      "fam infogain 0.033239979745098625\n"
     ]
    }
   ],
   "source": [
    "for c in ['age', 'fam']:\n",
    "    print(c, \"infogain\", I(d,c))"
   ],
   "metadata": {
    "collapsed": false
   }
  },
  {
   "cell_type": "code",
   "execution_count": 52,
   "outputs": [
    {
     "name": "stdout",
     "output_type": "stream",
     "text": [
      "age ==  mid\n",
      "fam infogain 0.20218548540814563\n",
      "4 3\n",
      "fam == False 2 3\n",
      "fam == True 2 0\n",
      "\n",
      "\n",
      "age ==  old\n",
      "fam infogain 0.0\n",
      "4 0\n",
      "fam == False 3 0\n",
      "fam == True 1 0\n",
      "\n",
      "\n",
      "age ==  young\n",
      "fam infogain 0.20218548540814568\n",
      "2 5\n",
      "fam == False 0 3\n",
      "fam == True 2 2\n",
      "\n",
      "\n"
     ]
    }
   ],
   "source": [
    "for v in np.unique(d[:,0]):\n",
    "    dv=d[d[:,0]==v]\n",
    "    print('age == ',v)\n",
    "    print(c, \"infogain\", I(dv,'fam'))\n",
    "    print(len(dv[dv[:,2]==\"True\"]), len(dv[dv[:,2]==\"False\"]))\n",
    "    for fv in np.unique(dv[:,1]):\n",
    "        dfv=dv[dv[:,1]==fv]\n",
    "        print('fam == %s'%fv, len(dfv[dfv[:,2]=='True']), len(dfv[dfv[:,2]==\"False\"]))\n",
    "    print('\\n')"
   ],
   "metadata": {
    "collapsed": false
   }
  },
  {
   "cell_type": "code",
   "execution_count": 48,
   "outputs": [
    {
     "data": {
      "text/plain": "array([['old', 'False', 'True'],\n       ['mid', 'True', 'True'],\n       ['mid', 'False', 'True'],\n       ['old', 'True', 'True'],\n       ['young', 'True', 'True'],\n       ['old', 'False', 'True'],\n       ['young', 'True', 'True'],\n       ['mid', 'True', 'True'],\n       ['mid', 'False', 'True'],\n       ['old', 'False', 'True']], dtype='<U5')"
     },
     "execution_count": 48,
     "metadata": {},
     "output_type": "execute_result"
    }
   ],
   "source": [
    "data[data[:,2]==\"True\"]"
   ],
   "metadata": {
    "collapsed": false
   }
  }
 ],
 "metadata": {
  "kernelspec": {
   "display_name": "Python 3",
   "language": "python",
   "name": "python3"
  },
  "language_info": {
   "codemirror_mode": {
    "name": "ipython",
    "version": 2
   },
   "file_extension": ".py",
   "mimetype": "text/x-python",
   "name": "python",
   "nbconvert_exporter": "python",
   "pygments_lexer": "ipython2",
   "version": "2.7.6"
  }
 },
 "nbformat": 4,
 "nbformat_minor": 0
}
