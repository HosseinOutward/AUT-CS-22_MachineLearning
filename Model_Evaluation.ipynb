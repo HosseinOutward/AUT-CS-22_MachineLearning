{
 "cells": [
  {
   "cell_type": "code",
   "execution_count": 125,
   "metadata": {
    "collapsed": true
   },
   "outputs": [],
   "source": [
    "import numpy as np\n",
    "from numpy.linalg import *\n",
    "from linreg import LinearRegression"
   ]
  },
  {
   "cell_type": "markdown",
   "metadata": {
    "collapsed": false
   },
   "source": [
    "## Implementation Essential Functions "
   ]
  },
  {
   "cell_type": "code",
   "execution_count": 136,
   "metadata": {
    "collapsed": false,
    "pycharm": {
     "name": "#%%\n"
    }
   },
   "outputs": [],
   "source": [
    "def Train_model(dataPath, alpha, n_iter):\n",
    "\n",
    "    # load the data\n",
    "    file = open(dataPath, 'r')\n",
    "    allData = np.loadtxt(file, delimiter=',')\n",
    "\n",
    "    X = np.matrix(allData[:, :-1])\n",
    "    y = np.matrix((allData[:, -1])).T\n",
    "\n",
    "    n, d = X.shape\n",
    "\n",
    "    # Standardize\n",
    "    mean = X.mean(axis=0)\n",
    "    std = X.std(axis=0)\n",
    "    X = (X - mean) / std\n",
    "\n",
    "    # Add a row of ones for the bias term\n",
    "    X = np.c_[np.ones((n, 1)), X]\n",
    "\n",
    "    init_theta = np.matrix(np.random.randn((d + 1))).T\n",
    "\n",
    "    lr_model = LinearRegression(init_theta=init_theta, alpha=alpha, n_iter=n_iter)\n",
    "    lr_model.fit(X, y)\n",
    "    return lr_model.theta, lr_model.JHist[-1][0] * 2\n",
    "\n",
    "\n",
    "def calculate_loss(y, y_predicted):\n",
    "\n",
    "    # TODO : implement a function to calculate MSE and RMSE\n",
    "\n",
    "\n",
    "    return MSE_loss, RMSE_loss\n",
    "\n",
    "\n",
    "def model_evaluation(filePath, tetha, alpha, n_iter):\n",
    "\n",
    "    # load the data\n",
    "    file = open(filePath, 'rb')\n",
    "    allData = np.load(file)['arr_0']\n",
    "\n",
    "    X = np.matrix(allData[:, :-1])\n",
    "    y = np.matrix((allData[:, -1])).T\n",
    "\n",
    "    n, d = X.shape\n",
    "\n",
    "    # Standardize\n",
    "    mean = X.mean(axis=0)\n",
    "    std = X.std(axis=0)\n",
    "    X = (X - mean) / std\n",
    "\n",
    "    # Add a row of ones for the bias term\n",
    "    X = np.c_[np.ones((n, 1)), X]\n",
    "\n",
    "    model = LinearRegression(init_theta=tetha, alpha=alpha, n_iter=n_iter)\n",
    "    return calculate_loss(y, model.predict(X))"
   ]
  },
  {
   "cell_type": "markdown",
   "metadata": {},
   "source": [
    "## Hyper-Parameter Tuning and Loss Calculation"
   ]
  },
  {
   "cell_type": "markdown",
   "metadata": {},
   "source": [
    "<!-- TODO -->"
   ]
  }
 ],
 "metadata": {
  "kernelspec": {
   "display_name": "Python 3",
   "language": "python",
   "name": "python3"
  },
  "language_info": {
   "codemirror_mode": {
    "name": "ipython",
    "version": 2
   },
   "file_extension": ".py",
   "mimetype": "text/x-python",
   "name": "python",
   "nbconvert_exporter": "python",
   "pygments_lexer": "ipython2",
   "version": "2.7.6"
  }
 },
 "nbformat": 4,
 "nbformat_minor": 0
}
