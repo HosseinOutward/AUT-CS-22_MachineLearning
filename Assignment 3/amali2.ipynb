{
 "cells": [
  {
   "cell_type": "code",
   "execution_count": 1,
   "outputs": [],
   "source": [
    "import pandas as pd\n",
    "import numpy as np\n",
    "import matplotlib.pyplot as plt\n",
    "import seaborn as sns\n",
    "from sklearn.metrics import confusion_matrix\n",
    "from sklearn.model_selection import GridSearchCV\n",
    "from sklearn.ensemble import RandomForestClassifier\n",
    "import category_encoders as ce\n",
    "from sklearn.model_selection import train_test_split"
   ],
   "metadata": {
    "collapsed": false
   }
  },
  {
   "cell_type": "code",
   "execution_count": 23,
   "outputs": [],
   "source": [
    "data=pd.DataFrame([\n",
    "    ['nuc','youn','low','yes'],\n",
    "    ['ext','old','low','no'],\n",
    "    ['less','mid','low','no'],\n",
    "    ['less','youn','mid','yes'],\n",
    "    ['sin','mid','mid','yes'],\n",
    "    ['les','youn','low','no'],\n",
    "    ['nuc','old','high','yes'],\n",
    "    ['nuc','mid','mid','yes'],\n",
    "    ['ext','mid','high','yes'],\n",
    "    ['sin','old','low','no'],\n",
    "], columns=['fam', 'age', 'inc', 'targ'])\n",
    "\n",
    "prob=[\n",
    "    ['sin','mid','high',],\n",
    "    ['less','old','low',],\n",
    "    ['ext','youn','mid',],\n",
    "    ['nuc','youn','high',],\n",
    "    ['nuc','youn','low',],\n",
    "]"
   ],
   "metadata": {
    "collapsed": false
   }
  },
  {
   "cell_type": "code",
   "execution_count": 24,
   "outputs": [
    {
     "name": "stdout",
     "output_type": "stream",
     "text": [
      "yes 6\n",
      "no 4\n"
     ]
    },
    {
     "data": {
      "text/plain": "{'yes': {'fam': {'nuc': 0.5,\n   'less': 0.16666666666666666,\n   'sin': 0.16666666666666666,\n   'ext': 0.16666666666666666},\n  'age': {'youn': 0.3333333333333333, 'mid': 0.5, 'old': 0.16666666666666666},\n  'inc': {'low': 0.16666666666666666, 'mid': 0.5, 'high': 0.3333333333333333}},\n 'no': {'fam': {'ext': 0.25, 'less': 0.25, 'les': 0.25, 'sin': 0.25},\n  'age': {'old': 0.5, 'mid': 0.25, 'youn': 0.25},\n  'inc': {'low': 1.0}}}"
     },
     "execution_count": 24,
     "metadata": {},
     "output_type": "execute_result"
    }
   ],
   "source": [
    "mod={targ: {col: {} for col in data.columns if col != 'targ'} for targ in ['yes', 'no']}\n",
    "for targ in ['yes', 'no']:\n",
    "    df = data[data['targ']==targ]\n",
    "    for col in df.columns:\n",
    "        if col == 'targ': continue\n",
    "        for v in df[col].unique():\n",
    "            mod[targ][col][v]=len(df[df[col]==v])/len(df)\n",
    "    print(targ,len(df))\n",
    "mod"
   ],
   "metadata": {
    "collapsed": false
   }
  },
  {
   "cell_type": "code",
   "execution_count": 41,
   "outputs": [
    {
     "name": "stdout",
     "output_type": "stream",
     "text": [
      "['sin', 'mid', 'high'] yes\n",
      "['less', 'old', 'low'] no\n",
      "['ext', 'youn', 'mid'] yes\n",
      "['nuc', 'youn', 'high'] yes\n",
      "['nuc', 'youn', 'low'] yes\n"
     ]
    }
   ],
   "source": [
    "def pred(x,mo):\n",
    "    res={}\n",
    "    for targ in ['yes', 'no']:\n",
    "        df = data[data['targ']==targ]\n",
    "        res[targ]=len(df)/len(data)\n",
    "        for i in range(len(df.columns)-1):\n",
    "            try:\n",
    "                res[targ]*=mo[targ][df.columns[i]][x[i]]\n",
    "            except KeyError:\n",
    "                res[targ]*=0\n",
    "    res=[list(res.keys()),list(res.values())]\n",
    "    return res[0][np.argmax(res[1])]\n",
    "for xx in prob:\n",
    "    print(xx, pred(xx, mod))"
   ],
   "metadata": {
    "collapsed": false
   }
  }
 ],
 "metadata": {
  "kernelspec": {
   "display_name": "Python 3.9.10 ('SpikingJelly')",
   "language": "python",
   "name": "python3"
  },
  "language_info": {
   "codemirror_mode": {
    "name": "ipython",
    "version": 3
   },
   "file_extension": ".py",
   "mimetype": "text/x-python",
   "name": "python",
   "nbconvert_exporter": "python",
   "pygments_lexer": "ipython3",
   "version": "3.9.10"
  },
  "vscode": {
   "interpreter": {
    "hash": "4e79262f78c82f38add703a2879f1be366e7de26057c1eb56360d60fbe5934c7"
   }
  }
 },
 "nbformat": 4,
 "nbformat_minor": 0
}
