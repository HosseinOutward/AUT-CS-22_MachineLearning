{
 "cells": [
  {
   "cell_type": "code",
   "execution_count": 13,
   "metadata": {
    "collapsed": false
   },
   "outputs": [],
   "source": [
    "import os\n",
    "os.environ[\"OMP_NUM_THREADS\"] = \"1\"\n",
    "\n",
    "import pandas as pd\n",
    "import numpy as np\n",
    "import matplotlib.pyplot as plt\n",
    "import seaborn as sns\n",
    "from sklearn.metrics import confusion_matrix\n",
    "from sklearn.model_selection import GridSearchCV\n",
    "from sklearn.ensemble import RandomForestClassifier\n",
    "import category_encoders as ce\n",
    "from sklearn.model_selection import train_test_split\n"
   ]
  },
  {
   "cell_type": "code",
   "execution_count": 14,
   "metadata": {
    "collapsed": false
   },
   "outputs": [
    {
     "data": {
      "text/plain": "     x   y\nA1   2  12\nA2   3   5\nA3   8   4\nA4   6  13\nA5  13   5\nA6  10   6\nA7   2   2\nA8   4  13",
      "text/html": "<div>\n<style scoped>\n    .dataframe tbody tr th:only-of-type {\n        vertical-align: middle;\n    }\n\n    .dataframe tbody tr th {\n        vertical-align: top;\n    }\n\n    .dataframe thead th {\n        text-align: right;\n    }\n</style>\n<table border=\"1\" class=\"dataframe\">\n  <thead>\n    <tr style=\"text-align: right;\">\n      <th></th>\n      <th>x</th>\n      <th>y</th>\n    </tr>\n  </thead>\n  <tbody>\n    <tr>\n      <th>A1</th>\n      <td>2</td>\n      <td>12</td>\n    </tr>\n    <tr>\n      <th>A2</th>\n      <td>3</td>\n      <td>5</td>\n    </tr>\n    <tr>\n      <th>A3</th>\n      <td>8</td>\n      <td>4</td>\n    </tr>\n    <tr>\n      <th>A4</th>\n      <td>6</td>\n      <td>13</td>\n    </tr>\n    <tr>\n      <th>A5</th>\n      <td>13</td>\n      <td>5</td>\n    </tr>\n    <tr>\n      <th>A6</th>\n      <td>10</td>\n      <td>6</td>\n    </tr>\n    <tr>\n      <th>A7</th>\n      <td>2</td>\n      <td>2</td>\n    </tr>\n    <tr>\n      <th>A8</th>\n      <td>4</td>\n      <td>13</td>\n    </tr>\n  </tbody>\n</table>\n</div>"
     },
     "execution_count": 14,
     "metadata": {},
     "output_type": "execute_result"
    }
   ],
   "source": [
    "raw_df = pd.DataFrame(\n",
    "    [\n",
    "        [2  ,12],\n",
    "        [3  ,5 ],\n",
    "        [8  ,4 ],\n",
    "        [6  ,13],\n",
    "\n",
    "        [13 ,5 ],\n",
    "        [10 ,6 ],\n",
    "        [2  ,2 ],\n",
    "        [4  ,13],\n",
    "    ],\n",
    "    index=['A1','A2','A3','A4','A5','A6','A7','A8',],\n",
    "    columns=['x','y']\n",
    ")\n",
    "raw_df"
   ]
  },
  {
   "cell_type": "code",
   "execution_count": 15,
   "outputs": [
    {
     "name": "stdout",
     "output_type": "stream",
     "text": [
      "centroids [[ 6 13]\n",
      " [ 2  2]\n",
      " [ 4 13]]\n",
      "labels [2 1 1 0 0 0 1 2]\n",
      "iterations 0\n"
     ]
    },
    {
     "name": "stderr",
     "output_type": "stream",
     "text": [
      "C:\\Users\\No1\\AppData\\Local\\Temp\\ipykernel_19512\\193744424.py:25: UserWarning: The palette list has more values (8) than needed (3), which may not be intended.\n",
      "  sns.scatterplot(x=raw_df['x'],y=raw_df['y'], hue=pred,\n"
     ]
    },
    {
     "data": {
      "text/plain": "<AxesSubplot:xlabel='x', ylabel='y'>"
     },
     "execution_count": 15,
     "metadata": {},
     "output_type": "execute_result"
    },
    {
     "data": {
      "text/plain": "<Figure size 432x288 with 1 Axes>",
      "image/png": "[encoded data removed]"
     },
     "metadata": {
      "needs_background": "light"
     },
     "output_type": "display_data"
    }
   ],
   "source": [
    "def fit(X, n_it, centroids=None, k_c=3):\n",
    "    if centroids is None:\n",
    "        centroids = X[np.random.choice(X.shape[0], k_c, replace=False), :]\n",
    "    labels = np.argmin(\n",
    "        np.sum( ( X[:, None, :]-centroids[None, :, :] )**2, axis=2), axis=1)\n",
    "    stop=0;k=0\n",
    "    for k in range(1,n_it+1):\n",
    "        labels2 = np.argmin(\n",
    "            np.sum( ( X[:, None, :]-centroids[None, :, :] )**2, axis=2), axis=1)\n",
    "        centroids2 = np.array([\n",
    "            X[labels2 == i].mean(axis=0) for i in range(len(centroids))]\n",
    "        )\n",
    "        if (centroids2==centroids).all() and (labels==labels2).all():\n",
    "            stop=1\n",
    "            break\n",
    "        centroids = centroids2\n",
    "        labels = labels2\n",
    "\n",
    "    return centroids, labels, k-1*stop\n",
    "\n",
    "cen,pred, s_i = fit(raw_df.values, 0, centroids=raw_df.loc[['A4','A7','A8'],:].values)\n",
    "print('centroids',cen,)\n",
    "print('labels',pred)\n",
    "print('iterations',s_i)\n",
    "sns.scatterplot(x=raw_df['x'],y=raw_df['y'], hue=pred,\n",
    "                palette=sns.color_palette(\"Set2\"))\n",
    "sns.scatterplot(x=cen[:,0],y=cen[:,1], color='orange')"
   ],
   "metadata": {
    "collapsed": false
   }
  },
  {
   "cell_type": "code",
   "execution_count": 16,
   "outputs": [
    {
     "name": "stdout",
     "output_type": "stream",
     "text": [
      "centroids [[ 9.66666667  8.        ]\n",
      " [ 4.33333333  3.66666667]\n",
      " [ 3.         12.5       ]]\n",
      "labels [2 1 1 0 0 0 1 2]\n",
      "iterations 1\n"
     ]
    },
    {
     "name": "stderr",
     "output_type": "stream",
     "text": [
      "C:\\Users\\No1\\AppData\\Local\\Temp\\ipykernel_19512\\2554641500.py:5: UserWarning: The palette list has more values (8) than needed (3), which may not be intended.\n",
      "  sns.scatterplot(x=raw_df['x'],y=raw_df['y'], hue=pred,\n"
     ]
    },
    {
     "data": {
      "text/plain": "<AxesSubplot:xlabel='x', ylabel='y'>"
     },
     "execution_count": 16,
     "metadata": {},
     "output_type": "execute_result"
    },
    {
     "data": {
      "text/plain": "<Figure size 432x288 with 1 Axes>",
      "image/png": "[encoded data removed]"
     },
     "metadata": {
      "needs_background": "light"
     },
     "output_type": "display_data"
    }
   ],
   "source": [
    "\n",
    "cen,pred, s_i = fit(raw_df.values, 1, centroids=raw_df.loc[['A4','A7','A8'],:].values)\n",
    "print('centroids',cen,)\n",
    "print('labels',pred)\n",
    "print('iterations',s_i)\n",
    "sns.scatterplot(x=raw_df['x'],y=raw_df['y'], hue=pred,\n",
    "                palette=sns.color_palette(\"Set2\"))\n",
    "sns.scatterplot(x=cen[:,0],y=cen[:,1], color='orange')"
   ],
   "metadata": {
    "collapsed": false
   }
  },
  {
   "cell_type": "code",
   "execution_count": 17,
   "outputs": [
    {
     "name": "stdout",
     "output_type": "stream",
     "text": [
      "centroids [[11.5         5.5       ]\n",
      " [ 4.33333333  3.66666667]\n",
      " [ 4.         12.66666667]]\n",
      "labels [2 1 1 2 0 0 1 2]\n",
      "iterations 2\n"
     ]
    },
    {
     "name": "stderr",
     "output_type": "stream",
     "text": [
      "C:\\Users\\No1\\AppData\\Local\\Temp\\ipykernel_19512\\2476372454.py:5: UserWarning: The palette list has more values (8) than needed (3), which may not be intended.\n",
      "  sns.scatterplot(x=raw_df['x'],y=raw_df['y'], hue=pred,\n"
     ]
    },
    {
     "data": {
      "text/plain": "<AxesSubplot:xlabel='x', ylabel='y'>"
     },
     "execution_count": 17,
     "metadata": {},
     "output_type": "execute_result"
    },
    {
     "data": {
      "text/plain": "<Figure size 432x288 with 1 Axes>",
      "image/png": "[encoded data removed]"
     },
     "metadata": {
      "needs_background": "light"
     },
     "output_type": "display_data"
    }
   ],
   "source": [
    "cen,pred, s_i = fit(raw_df.values, 100, centroids=raw_df.loc[['A4','A7','A8'],:].values)\n",
    "print('centroids',cen,)\n",
    "print('labels',pred)\n",
    "print('iterations',s_i)\n",
    "sns.scatterplot(x=raw_df['x'],y=raw_df['y'], hue=pred,\n",
    "                palette=sns.color_palette(\"Set2\"))\n",
    "sns.scatterplot(x=cen[:,0],y=cen[:,1], color='orange')"
   ],
   "metadata": {
    "collapsed": false
   }
  },
  {
   "cell_type": "code",
   "execution_count": 18,
   "outputs": [
    {
     "name": "stdout",
     "output_type": "stream",
     "text": [
      "centroids [[ 4.         12.66666667]\n",
      " [ 2.5         3.5       ]\n",
      " [10.33333333  5.        ]]\n",
      "labels [0 1 2 0 2 2 1 0]\n",
      "iterations 1\n"
     ]
    },
    {
     "name": "stderr",
     "output_type": "stream",
     "text": [
      "C:\\Users\\No1\\AppData\\Local\\Temp\\ipykernel_19512\\249347682.py:5: UserWarning: The palette list has more values (8) than needed (3), which may not be intended.\n",
      "  sns.scatterplot(x=raw_df['x'],y=raw_df['y'], hue=pred,\n"
     ]
    },
    {
     "data": {
      "text/plain": "<AxesSubplot:xlabel='x', ylabel='y'>"
     },
     "execution_count": 18,
     "metadata": {},
     "output_type": "execute_result"
    },
    {
     "data": {
      "text/plain": "<Figure size 432x288 with 1 Axes>",
      "image/png": "[encoded data removed]"
     },
     "metadata": {
      "needs_background": "light"
     },
     "output_type": "display_data"
    }
   ],
   "source": [
    "cen,pred, s_i = fit(raw_df.values, 100)\n",
    "print('centroids',cen,)\n",
    "print('labels',pred)\n",
    "print('iterations',s_i)\n",
    "sns.scatterplot(x=raw_df['x'],y=raw_df['y'], hue=pred,\n",
    "                palette=sns.color_palette(\"Set2\"))\n",
    "sns.scatterplot(x=cen[:,0],y=cen[:,1], color='orange')"
   ],
   "metadata": {
    "collapsed": false
   }
  }
 ],
 "metadata": {
  "kernelspec": {
   "display_name": "SpikingJelly",
   "language": "python",
   "name": "python3"
  },
  "language_info": {
   "codemirror_mode": {
    "name": "ipython",
    "version": 3
   },
   "file_extension": ".py",
   "mimetype": "text/x-python",
   "name": "python",
   "nbconvert_exporter": "python",
   "pygments_lexer": "ipython3",
   "version": "3.9.10"
  },
  "vscode": {
   "interpreter": {
    "hash": "4e79262f78c82f38add703a2879f1be366e7de26057c1eb56360d60fbe5934c7"
   }
  }
 },
 "nbformat": 4,
 "nbformat_minor": 0
}
