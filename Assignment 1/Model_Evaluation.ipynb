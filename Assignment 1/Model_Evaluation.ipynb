{
 "cells": [
  {
   "cell_type": "code",
   "execution_count": 25,
   "metadata": {
    "collapsed": true
   },
   "outputs": [],
   "source": [
    "import numpy as np\n",
    "from numpy.linalg import *\n",
    "from linreg import LinearRegression\n",
    "from sklearn.linear_model import LinearRegression as sklLinearRegression\n",
    "from sklearn.preprocessing import StandardScaler\n",
    "from sklearn.model_selection import GridSearchCV"
   ]
  },
  {
   "cell_type": "markdown",
   "metadata": {
    "collapsed": false
   },
   "source": [
    "## Implementation Essential Functions "
   ]
  },
  {
   "cell_type": "code",
   "execution_count": 46,
   "metadata": {
    "collapsed": false
   },
   "outputs": [
    {
     "data": {
      "text/plain": "(matrix([[2.30600774e+09]]), matrix([[48020.90935979]]))"
     },
     "execution_count": 46,
     "metadata": {},
     "output_type": "execute_result"
    }
   ],
   "source": [
    "def Train_model(dataPath, alpha, n_iter):\n",
    "\n",
    "    # load the data\n",
    "    file = open(dataPath, 'r')\n",
    "    allData = np.loadtxt(file, delimiter=',')\n",
    "\n",
    "    X = np.matrix(allData[:, :-1])\n",
    "    y = np.matrix((allData[:, -1])).T\n",
    "\n",
    "    n, d = X.shape\n",
    "\n",
    "    # Standardize\n",
    "    mean = X.mean(axis=0)\n",
    "    std = X.std(axis=0)\n",
    "    X = (X - mean) / std\n",
    "\n",
    "    # Add a row of ones for the bias term\n",
    "    X = np.c_[np.ones((n, 1)), X]\n",
    "\n",
    "    init_theta = np.matrix(np.random.randn((d + 1))).T\n",
    "\n",
    "    lr_model = LinearRegression(init_theta=init_theta, alpha=alpha, n_iter=n_iter)\n",
    "    lr_model.fit(X, y)\n",
    "    return lr_model.theta, lr_model.JHist[-1][0] * 2\n",
    "\n",
    "\n",
    "def calculate_loss(y, y_predicted):\n",
    "\n",
    "    # TODO : implement a function to calculate MSE and RMSE\n",
    "    MSE_loss=(y-y_predicted).T@(y-y_predicted) / len(y)\n",
    "    RMSE_loss=np.sqrt(MSE_loss)\n",
    "\n",
    "    return MSE_loss, RMSE_loss\n",
    "\n",
    "\n",
    "with open(\"data/multivariateData.dat\",'r') as file:\n",
    "    allData = np.loadtxt(file, delimiter=',')\n",
    "\n",
    "    X = np.matrix(allData[:,:-1])\n",
    "    y = np.matrix((allData[:,-1])).T\n",
    "\n",
    "    n,d = X.shape\n",
    "\n",
    "    # Standardize\n",
    "    mean = X.mean(axis=0)\n",
    "    std = X.std(axis=0)\n",
    "    X = (X - mean) / std\n",
    "\n",
    "    # Add a row of ones for the bias term\n",
    "    X = np.c_[np.ones((n,1)), X]\n",
    "\n",
    "\n",
    "with open('data/holdout.npz', 'rb') as file:\n",
    "    allData = np.load(file)['arr_0']\n",
    "    \n",
    "    X_train = np.matrix(allData[:, :-1])\n",
    "    y_train = np.matrix((allData[:, -1])).T\n",
    "    \n",
    "    n, d = X_train.shape\n",
    "    \n",
    "    # Standardize\n",
    "    X_train = (X_train - mean) / std\n",
    "    \n",
    "    # Add a row of ones for the bias term\n",
    "    X_train = np.c_[np.ones((n, 1)), X_train]\n",
    "\n",
    "\n",
    "def model_evaluation(tetha, alpha, n_iter):\n",
    "    model = LinearRegression(init_theta=tetha, alpha=alpha, n_iter=n_iter)\n",
    "    model.fit(X,y)\n",
    "    return calculate_loss(y_train, model.predict(X_train))\n",
    "model_evaluation(tetha=np.matrix(np.random.randn((2+1))).T, alpha=0.05, n_iter=2000)"
   ]
  },
  {
   "cell_type": "markdown",
   "metadata": {},
   "source": [
    "## Hyper-Parameter Tuning and Loss Calculation"
   ]
  },
  {
   "cell_type": "markdown",
   "metadata": {},
   "source": [
    "<!-- TODO -->"
   ]
  },
  {
   "cell_type": "code",
   "execution_count": 42,
   "outputs": [
    {
     "data": {
      "text/plain": "{'alpha': 0.07470000000000002,\n 'n_iter': 1026,\n 'error': matrix([[2.30600774e+09]])}"
     },
     "execution_count": 42,
     "metadata": {},
     "output_type": "execute_result"
    }
   ],
   "source": [
    "def grid_search():\n",
    "    import sys, os\n",
    "    sys.stdout = open(os.devnull, 'w'); e=float('inf'); setting=None\n",
    "    for n_iter in np.arange(1020,1040,1):\n",
    "        for alpha in np.arange(0.074,0.075,0.0001):\n",
    "            new_e=model_evaluation(alpha=alpha, n_iter=n_iter,\n",
    "                tetha=np.matrix(np.random.randn((2+1))).T)[0]\n",
    "            if e>new_e:\n",
    "                e=new_e\n",
    "                setting = {'alpha': alpha, 'n_iter': n_iter, 'error': e}\n",
    "    sys.stdout = sys.__stdout__\n",
    "    return setting\n",
    "grid_search()"
   ],
   "metadata": {
    "collapsed": false
   }
  },
  {
   "cell_type": "code",
   "execution_count": 28,
   "outputs": [
    {
     "data": {
      "text/plain": "(matrix([[2.30600774e+09]]), matrix([[48020.90935979]]))"
     },
     "execution_count": 28,
     "metadata": {},
     "output_type": "execute_result"
    }
   ],
   "source": [
    "model_evaluation(tetha=np.matrix(np.random.randn((2+1))).T, alpha=0.068, n_iter=1096)"
   ],
   "metadata": {
    "collapsed": false
   }
  },
  {
   "cell_type": "code",
   "execution_count": 44,
   "outputs": [
    {
     "data": {
      "text/plain": "(2306007735.7410774, 48020.90935978907)"
     },
     "execution_count": 44,
     "metadata": {},
     "output_type": "execute_result"
    }
   ],
   "source": [
    "with open(\"data/multivariateData.dat\",'r') as file:\n",
    "    allData = np.loadtxt(file, delimiter=',')\n",
    "\n",
    "    X = np.array(allData[:,:-1])\n",
    "    y = np.array((allData[:,-1])).T\n",
    "\n",
    "with open('data/holdout.npz', 'rb') as file:\n",
    "    allData = np.load(file)['arr_0']\n",
    "\n",
    "    X_train = np.array(allData[:,:-1])\n",
    "    y_train = np.array((allData[:,-1])).T\n",
    "\n",
    "scaler = StandardScaler()\n",
    "scaler.fit(X)\n",
    "X = scaler.transform(X)\n",
    "X_train = scaler.transform(X_train)\n",
    "\n",
    "model = sklLinearRegression()\n",
    "model.fit(X,y)\n",
    "model.predict(X_train)\n",
    "calculate_loss(y_train, model.predict(X_train))\n"
   ],
   "metadata": {
    "collapsed": false
   }
  },
  {
   "cell_type": "code",
   "execution_count": 49,
   "outputs": [
    {
     "data": {
      "text/plain": "matrix([[3.72204686e-13]])"
     },
     "execution_count": 49,
     "metadata": {},
     "output_type": "execute_result"
    }
   ],
   "source": [
    "(2306007735.7410774-model_evaluation(tetha=np.matrix(np.random.randn((2+1))).T, alpha=0.068, n_iter=1096)[0])/model_evaluation(tetha=np.matrix(np.random.randn((2+1))).T, alpha=0.068, n_iter=1096)[0]*100"
   ],
   "metadata": {
    "collapsed": false
   }
  }
 ],
 "metadata": {
  "kernelspec": {
   "display_name": "Python 3",
   "language": "python",
   "name": "python3"
  },
  "language_info": {
   "codemirror_mode": {
    "name": "ipython",
    "version": 2
   },
   "file_extension": ".py",
   "mimetype": "text/x-python",
   "name": "python",
   "nbconvert_exporter": "python",
   "pygments_lexer": "ipython2",
   "version": "2.7.6"
  }
 },
 "nbformat": 4,
 "nbformat_minor": 0
}
